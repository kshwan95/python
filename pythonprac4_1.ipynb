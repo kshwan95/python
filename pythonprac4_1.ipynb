{
  "nbformat": 4,
  "nbformat_minor": 0,
  "metadata": {
    "colab": {
      "name": "pythonprac4-1.ipynb",
      "provenance": [],
      "collapsed_sections": [],
      "authorship_tag": "ABX9TyPX+sh3Tq9pYBpmTAsyed1l",
      "include_colab_link": true
    },
    "kernelspec": {
      "name": "python3",
      "display_name": "Python 3"
    },
    "language_info": {
      "name": "python"
    }
  },
  "cells": [
    {
      "cell_type": "markdown",
      "metadata": {
        "id": "view-in-github",
        "colab_type": "text"
      },
      "source": [
        "<a href=\"https://colab.research.google.com/github/kshwan95/python/blob/master/pythonprac4_1.ipynb\" target=\"_parent\"><img src=\"https://colab.research.google.com/assets/colab-badge.svg\" alt=\"Open In Colab\"/></a>"
      ]
    },
    {
      "cell_type": "code",
      "metadata": {
        "id": "Ts0v8yGxIFqf"
      },
      "source": [
        "# 일반적인 함수\n",
        "def add2(a,b):\n",
        "  result = a + b\n",
        "  return result"
      ],
      "execution_count": 27,
      "outputs": []
    },
    {
      "cell_type": "code",
      "metadata": {
        "colab": {
          "base_uri": "https://localhost:8080/"
        },
        "id": "01oeWGpmKKTN",
        "outputId": "54eae22a-1878-4ae1-9a79-10d75bbfb412"
      },
      "source": [
        "c = add2(3,4)\n",
        "print(c)"
      ],
      "execution_count": 30,
      "outputs": [
        {
          "output_type": "stream",
          "text": [
            "7\n"
          ],
          "name": "stdout"
        }
      ]
    },
    {
      "cell_type": "code",
      "metadata": {
        "id": "IgmxVo3DIrXU"
      },
      "source": [
        "# 입력값이 없는 함수\n",
        "def say():\n",
        "  return 'Hello world'"
      ],
      "execution_count": 32,
      "outputs": []
    },
    {
      "cell_type": "code",
      "metadata": {
        "colab": {
          "base_uri": "https://localhost:8080/"
        },
        "id": "BueZzfnvJ412",
        "outputId": "88b465ac-04d0-4d75-ce98-5d48dc471827"
      },
      "source": [
        "b= say()\n",
        "print(b)"
      ],
      "execution_count": 33,
      "outputs": [
        {
          "output_type": "stream",
          "text": [
            "Hello world\n"
          ],
          "name": "stdout"
        }
      ]
    },
    {
      "cell_type": "code",
      "metadata": {
        "id": "Weh-_pV1JYg_"
      },
      "source": [
        "# 결괏값이 없는 함수\n",
        "def add3(a,b):\n",
        "  print(\"%d,%d의 합은 %d입니다\"%(a,b,a+b))"
      ],
      "execution_count": 19,
      "outputs": []
    },
    {
      "cell_type": "code",
      "metadata": {
        "colab": {
          "base_uri": "https://localhost:8080/"
        },
        "id": "hBy8yznkJ1e_",
        "outputId": "2a8fd022-a99d-4c6b-ce9a-09356c6c7741"
      },
      "source": [
        "add3(3,4)"
      ],
      "execution_count": 20,
      "outputs": [
        {
          "output_type": "stream",
          "text": [
            "3,4의 합은 7입니다\n"
          ],
          "name": "stdout"
        }
      ]
    },
    {
      "cell_type": "code",
      "metadata": {
        "id": "hcxHTnweKAjn"
      },
      "source": [
        "# 입력값도 결괏값도 없는 함수\n",
        "def say2():\n",
        "  print(\"hello\")"
      ],
      "execution_count": 34,
      "outputs": []
    },
    {
      "cell_type": "code",
      "metadata": {
        "colab": {
          "base_uri": "https://localhost:8080/"
        },
        "id": "5c-dOS0TK4HA",
        "outputId": "b01e1d59-49bc-4a01-99bc-28f39beeb977"
      },
      "source": [
        "say2()"
      ],
      "execution_count": 36,
      "outputs": [
        {
          "output_type": "stream",
          "text": [
            "hello\n"
          ],
          "name": "stdout"
        }
      ]
    },
    {
      "cell_type": "code",
      "metadata": {
        "id": "i_vmNXcoK533"
      },
      "source": [
        "# 여러개의 입력값을 받는 함수 만들기\n",
        "def add_many(*args):\n",
        "  result = 0\n",
        "  for i in args:\n",
        "    result = result + i\n",
        "  return result"
      ],
      "execution_count": 37,
      "outputs": []
    },
    {
      "cell_type": "code",
      "metadata": {
        "colab": {
          "base_uri": "https://localhost:8080/"
        },
        "id": "ooA5DFbgMbCS",
        "outputId": "b690df60-2ca1-4cef-995d-534bca9f3e48"
      },
      "source": [
        "result = add_many(1,2,3)\n",
        "print(result)"
      ],
      "execution_count": 38,
      "outputs": [
        {
          "output_type": "stream",
          "text": [
            "6\n"
          ],
          "name": "stdout"
        }
      ]
    },
    {
      "cell_type": "code",
      "metadata": {
        "colab": {
          "base_uri": "https://localhost:8080/"
        },
        "id": "XHMYjfqJMgbK",
        "outputId": "9f6ccf1b-ce95-4eef-b987-44d31f4a5410"
      },
      "source": [
        "result= add_many(1,2,3,4,5,6,7,8,9,10)\n",
        "print(result)"
      ],
      "execution_count": 39,
      "outputs": [
        {
          "output_type": "stream",
          "text": [
            "55\n"
          ],
          "name": "stdout"
        }
      ]
    },
    {
      "cell_type": "code",
      "metadata": {
        "id": "yyX2XGJcMnmX"
      },
      "source": [
        "def add_mul(choice, *args):\n",
        "  if choice == \"add\":\n",
        "    result = 0\n",
        "    for i in args:\n",
        "      result = result+ i\n",
        "  elif choice ==\"mul\":\n",
        "    result = 1\n",
        "    for i in args:\n",
        "      result = result *i\n",
        "  return result"
      ],
      "execution_count": 40,
      "outputs": []
    },
    {
      "cell_type": "code",
      "metadata": {
        "colab": {
          "base_uri": "https://localhost:8080/"
        },
        "id": "eNinlSg3NgYF",
        "outputId": "23a74f8c-8f73-4a7d-e454-da32f6f658eb"
      },
      "source": [
        "result = add_mul('add',1,2,3,4,5)\n",
        "print(result)\n",
        "result2 = add_mul('mul',1,2,3,4,5)\n",
        "print(result2)"
      ],
      "execution_count": 42,
      "outputs": [
        {
          "output_type": "stream",
          "text": [
            "15\n",
            "120\n"
          ],
          "name": "stdout"
        }
      ]
    },
    {
      "cell_type": "code",
      "metadata": {
        "id": "gdznsiS1Nr4W"
      },
      "source": [
        "# 키워드 파라미터\n",
        "def print_kwargs(**kwargs):\n",
        "  print(kwargs)"
      ],
      "execution_count": 43,
      "outputs": []
    },
    {
      "cell_type": "code",
      "metadata": {
        "colab": {
          "base_uri": "https://localhost:8080/"
        },
        "id": "1rCdpDmmN-NB",
        "outputId": "f3643bdd-2d83-41fa-a8ed-1d398507d186"
      },
      "source": [
        "print_kwargs(a=1)"
      ],
      "execution_count": 44,
      "outputs": [
        {
          "output_type": "stream",
          "text": [
            "{'a': 1}\n"
          ],
          "name": "stdout"
        }
      ]
    },
    {
      "cell_type": "code",
      "metadata": {
        "colab": {
          "base_uri": "https://localhost:8080/"
        },
        "id": "VnyaeCB4ODB5",
        "outputId": "3ffddd9c-92fe-4c05-f178-af8f38e7404b"
      },
      "source": [
        "print_kwargs(name='seonghwan',age=27)"
      ],
      "execution_count": 45,
      "outputs": [
        {
          "output_type": "stream",
          "text": [
            "{'name': 'seonghwan', 'age': 27}\n"
          ],
          "name": "stdout"
        }
      ]
    },
    {
      "cell_type": "code",
      "metadata": {
        "id": "sajMP0-2OUbi"
      },
      "source": [
        "# 매개변수에 초깃값 미리 설정하기\n",
        "def say_myself(name,age,man=True):\n",
        "  print(\"나의 이름은 %s입니다.\"% name)\n",
        "  print(\"나이는 %d 입니다\" %age)\n",
        "  if man:\n",
        "    print(\"남자입니다\")\n",
        "  else:\n",
        "    print(\"여자입니다.\")"
      ],
      "execution_count": 46,
      "outputs": []
    },
    {
      "cell_type": "code",
      "metadata": {
        "colab": {
          "base_uri": "https://localhost:8080/"
        },
        "id": "UXKmWeaKSVlM",
        "outputId": "ca64d359-852f-4ae4-e9c7-dcd3b1440014"
      },
      "source": [
        "say_myself(\"강성환\",27,True)"
      ],
      "execution_count": 47,
      "outputs": [
        {
          "output_type": "stream",
          "text": [
            "나의 이름은 강성환입니다.\n",
            "나이는 27 입니다\n",
            "남자입니다\n"
          ],
          "name": "stdout"
        }
      ]
    },
    {
      "cell_type": "code",
      "metadata": {
        "colab": {
          "base_uri": "https://localhost:8080/"
        },
        "id": "WdYKt5IaSa8A",
        "outputId": "16b79e5d-c791-4a22-dc83-81ee03f0f4cd"
      },
      "source": [
        "#lambda\n",
        "add = lambda a, b: a+b\n",
        "result = add(3,4)\n",
        "print(result)"
      ],
      "execution_count": 48,
      "outputs": [
        {
          "output_type": "stream",
          "text": [
            "7\n"
          ],
          "name": "stdout"
        }
      ]
    },
    {
      "cell_type": "code",
      "metadata": {
        "id": "BvGMTSxDT1WT"
      },
      "source": [
        ""
      ],
      "execution_count": null,
      "outputs": []
    }
  ]
}