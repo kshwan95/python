{
  "nbformat": 4,
  "nbformat_minor": 0,
  "metadata": {
    "colab": {
      "name": "python7-1.ipynb",
      "provenance": [],
      "collapsed_sections": [],
      "authorship_tag": "ABX9TyPGzw+zNvAHYTPNotEKART5",
      "include_colab_link": true
    },
    "kernelspec": {
      "name": "python3",
      "display_name": "Python 3"
    },
    "language_info": {
      "name": "python"
    }
  },
  "cells": [
    {
      "cell_type": "markdown",
      "metadata": {
        "id": "view-in-github",
        "colab_type": "text"
      },
      "source": [
        "<a href=\"https://colab.research.google.com/github/kshwan95/python/blob/master/python7_1.ipynb\" target=\"_parent\"><img src=\"https://colab.research.google.com/assets/colab-badge.svg\" alt=\"Open In Colab\"/></a>"
      ]
    },
    {
      "cell_type": "code",
      "metadata": {
        "id": "VNjqoabRZQwY"
      },
      "source": [
        "#정규 표현식\n",
        "import re\n",
        "p =re.compile('[a-z]+')"
      ],
      "execution_count": 1,
      "outputs": []
    },
    {
      "cell_type": "code",
      "metadata": {
        "colab": {
          "base_uri": "https://localhost:8080/"
        },
        "id": "cK1wq7LvZxrt",
        "outputId": "003378ff-a9d8-411d-aafd-58c6fa2583be"
      },
      "source": [
        "# match()\n",
        "m = p.match(\"python\")\n",
        "print(m)"
      ],
      "execution_count": 3,
      "outputs": [
        {
          "output_type": "stream",
          "text": [
            "<re.Match object; span=(0, 6), match='python'>\n"
          ],
          "name": "stdout"
        }
      ]
    },
    {
      "cell_type": "code",
      "metadata": {
        "colab": {
          "base_uri": "https://localhost:8080/"
        },
        "id": "Qjrhd1Q9aAp-",
        "outputId": "45a20b55-db06-4d9b-b6e2-47115132ef7c"
      },
      "source": [
        "m = p.match(\"3python\")\n",
        "print(m)"
      ],
      "execution_count": 4,
      "outputs": [
        {
          "output_type": "stream",
          "text": [
            "None\n"
          ],
          "name": "stdout"
        }
      ]
    },
    {
      "cell_type": "code",
      "metadata": {
        "colab": {
          "base_uri": "https://localhost:8080/",
          "height": 35
        },
        "id": "OcTogZj0caAO",
        "outputId": "3891112a-7d07-4866-9784-8d9f557f0ee5"
      },
      "source": [
        "m.group()"
      ],
      "execution_count": 11,
      "outputs": [
        {
          "output_type": "execute_result",
          "data": {
            "application/vnd.google.colaboratory.intrinsic+json": {
              "type": "string"
            },
            "text/plain": [
              "'python'"
            ]
          },
          "metadata": {
            "tags": []
          },
          "execution_count": 11
        }
      ]
    },
    {
      "cell_type": "code",
      "metadata": {
        "colab": {
          "base_uri": "https://localhost:8080/"
        },
        "id": "rWw0sbNwcZ4o",
        "outputId": "1043b24b-9cfd-43ca-d733-4a1711f4bfea"
      },
      "source": [
        "m.start()"
      ],
      "execution_count": 12,
      "outputs": [
        {
          "output_type": "execute_result",
          "data": {
            "text/plain": [
              "2"
            ]
          },
          "metadata": {
            "tags": []
          },
          "execution_count": 12
        }
      ]
    },
    {
      "cell_type": "code",
      "metadata": {
        "colab": {
          "base_uri": "https://localhost:8080/"
        },
        "id": "6bj1QdUacZ1s",
        "outputId": "e2598556-dd90-4783-fb7f-115fc37caf86"
      },
      "source": [
        "m.end()"
      ],
      "execution_count": 13,
      "outputs": [
        {
          "output_type": "execute_result",
          "data": {
            "text/plain": [
              "8"
            ]
          },
          "metadata": {
            "tags": []
          },
          "execution_count": 13
        }
      ]
    },
    {
      "cell_type": "code",
      "metadata": {
        "colab": {
          "base_uri": "https://localhost:8080/"
        },
        "id": "BvfDITFTcZtR",
        "outputId": "388983e4-f76d-4d23-83ce-9a7efff72b6e"
      },
      "source": [
        "m.span()"
      ],
      "execution_count": 14,
      "outputs": [
        {
          "output_type": "execute_result",
          "data": {
            "text/plain": [
              "(2, 8)"
            ]
          },
          "metadata": {
            "tags": []
          },
          "execution_count": 14
        }
      ]
    },
    {
      "cell_type": "code",
      "metadata": {
        "colab": {
          "base_uri": "https://localhost:8080/"
        },
        "id": "xUKZZe0FaPhZ",
        "outputId": "91e84ebe-ad6a-426e-b9fb-ab42fa3fb274"
      },
      "source": [
        "#search()\n",
        "m = p.search(\"python\")\n",
        "print(m)"
      ],
      "execution_count": 5,
      "outputs": [
        {
          "output_type": "stream",
          "text": [
            "<re.Match object; span=(0, 6), match='python'>\n"
          ],
          "name": "stdout"
        }
      ]
    },
    {
      "cell_type": "code",
      "metadata": {
        "colab": {
          "base_uri": "https://localhost:8080/"
        },
        "id": "VNQrRN0eawBe",
        "outputId": "a189c94d-858c-4e28-9f88-908e83fa2552"
      },
      "source": [
        "m = p.search(\"3 python\")\n",
        "print(m)"
      ],
      "execution_count": 7,
      "outputs": [
        {
          "output_type": "stream",
          "text": [
            "<re.Match object; span=(2, 8), match='python'>\n"
          ],
          "name": "stdout"
        }
      ]
    },
    {
      "cell_type": "code",
      "metadata": {
        "colab": {
          "base_uri": "https://localhost:8080/"
        },
        "id": "erN5B8MLa4e1",
        "outputId": "65bfc1ab-3eaf-4e70-af32-79b3729743c9"
      },
      "source": [
        "#findall\n",
        "result = p.findall(\"life is too short\")\n",
        "print(result)"
      ],
      "execution_count": 8,
      "outputs": [
        {
          "output_type": "stream",
          "text": [
            "['life', 'is', 'too', 'short']\n"
          ],
          "name": "stdout"
        }
      ]
    },
    {
      "cell_type": "code",
      "metadata": {
        "colab": {
          "base_uri": "https://localhost:8080/"
        },
        "id": "ncPzNCcmb8Ns",
        "outputId": "5b70824f-892c-4ced-ee44-2d1cd809bfc6"
      },
      "source": [
        "#finditer\n",
        "result = p.finditer(\"life is too short\")\n",
        "print(result)"
      ],
      "execution_count": 9,
      "outputs": [
        {
          "output_type": "stream",
          "text": [
            "<callable_iterator object at 0x7febd8f28790>\n"
          ],
          "name": "stdout"
        }
      ]
    },
    {
      "cell_type": "code",
      "metadata": {
        "colab": {
          "base_uri": "https://localhost:8080/"
        },
        "id": "HJLY3P38cI1I",
        "outputId": "6b9221c0-82d3-4a07-defe-1bad9189d919"
      },
      "source": [
        "for r in result:print(r)"
      ],
      "execution_count": 10,
      "outputs": [
        {
          "output_type": "stream",
          "text": [
            "<re.Match object; span=(0, 4), match='life'>\n",
            "<re.Match object; span=(5, 7), match='is'>\n",
            "<re.Match object; span=(8, 11), match='too'>\n",
            "<re.Match object; span=(12, 17), match='short'>\n"
          ],
          "name": "stdout"
        }
      ]
    },
    {
      "cell_type": "code",
      "metadata": {
        "colab": {
          "base_uri": "https://localhost:8080/"
        },
        "id": "rEVsHcZCcObL",
        "outputId": "0152170b-8b91-4012-f868-8d4ca8527c50"
      },
      "source": [
        "#컴파일 옵션\n",
        "#DOTALL\n",
        "p = re.compile('a.b',re.DOTALL)\n",
        "m = p.match('a\\nb')\n",
        "print(m)"
      ],
      "execution_count": 15,
      "outputs": [
        {
          "output_type": "stream",
          "text": [
            "<re.Match object; span=(0, 3), match='a\\nb'>\n"
          ],
          "name": "stdout"
        }
      ]
    },
    {
      "cell_type": "code",
      "metadata": {
        "colab": {
          "base_uri": "https://localhost:8080/"
        },
        "id": "vAzVbUjfdFd3",
        "outputId": "e1b4eef5-01fc-4c8b-d30b-f5304cff3762"
      },
      "source": [
        "#IFNORECASE,I\n",
        "p = re.compile('[a-z]',re.I)\n",
        "p.match('python')\n",
        "p.match('Python')\n",
        "p.match('PYTHON')"
      ],
      "execution_count": 20,
      "outputs": [
        {
          "output_type": "execute_result",
          "data": {
            "text/plain": [
              "<re.Match object; span=(0, 1), match='P'>"
            ]
          },
          "metadata": {
            "tags": []
          },
          "execution_count": 20
        }
      ]
    },
    {
      "cell_type": "code",
      "metadata": {
        "colab": {
          "base_uri": "https://localhost:8080/"
        },
        "id": "0HB0nW5JdVgd",
        "outputId": "ff8ba5a1-0b5e-4649-a080-edb714bf0bf9"
      },
      "source": [
        "#Multiline, m\n",
        "import re\n",
        "p1 = re.compile(\"^python\\s\\w+\")\n",
        "data = \"\"\"python one life is too short python two youd need python pyhton three\"\"\"\n",
        "print(p1.findall(data))"
      ],
      "execution_count": 26,
      "outputs": [
        {
          "output_type": "stream",
          "text": [
            "['python one']\n"
          ],
          "name": "stdout"
        }
      ]
    },
    {
      "cell_type": "code",
      "metadata": {
        "colab": {
          "base_uri": "https://localhost:8080/"
        },
        "id": "QIJ6RfhqePTq",
        "outputId": "3a86df94-dd53-445d-8b4e-a35540c2d555"
      },
      "source": [
        "p = re.compile(\"^python\\s\\w+\",re.M)\n",
        "data = \"\"\"python one life is too short python two youd need python pyhton three\"\"\"\n",
        "print(p.findall(data))"
      ],
      "execution_count": 27,
      "outputs": [
        {
          "output_type": "stream",
          "text": [
            "['python one']\n"
          ],
          "name": "stdout"
        }
      ]
    },
    {
      "cell_type": "code",
      "metadata": {
        "id": "n1S5OzHleU9M"
      },
      "source": [
        ""
      ],
      "execution_count": null,
      "outputs": []
    }
  ]
}