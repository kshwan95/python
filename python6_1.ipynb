{
  "nbformat": 4,
  "nbformat_minor": 0,
  "metadata": {
    "colab": {
      "name": "python6-1.ipynb",
      "provenance": [],
      "authorship_tag": "ABX9TyPnmH0Euoj2IVF8iNj6BuYs",
      "include_colab_link": true
    },
    "kernelspec": {
      "name": "python3",
      "display_name": "Python 3"
    },
    "language_info": {
      "name": "python"
    }
  },
  "cells": [
    {
      "cell_type": "markdown",
      "metadata": {
        "id": "view-in-github",
        "colab_type": "text"
      },
      "source": [
        "<a href=\"https://colab.research.google.com/github/kshwan95/python/blob/master/python6_1.ipynb\" target=\"_parent\"><img src=\"https://colab.research.google.com/assets/colab-badge.svg\" alt=\"Open In Colab\"/></a>"
      ]
    },
    {
      "cell_type": "code",
      "metadata": {
        "id": "RCBABwFZGapA"
      },
      "source": [
        "#파이썬 프로그래밍 연습\n",
        "#구구단 만들기\n",
        "\n",
        "\n",
        "def GuGu(n):\n",
        "  result =[]\n",
        "  i =1\n",
        "  while i <10:\n",
        "    result.append(n*i)\n",
        "    i = i+1\n",
        "  return result \n"
      ],
      "execution_count": 6,
      "outputs": []
    },
    {
      "cell_type": "code",
      "metadata": {
        "colab": {
          "base_uri": "https://localhost:8080/"
        },
        "id": "cAmKzvrMJiAe",
        "outputId": "e2789422-4432-4445-dc4d-e9cb816163b2"
      },
      "source": [
        "print(GuGu(2))"
      ],
      "execution_count": 7,
      "outputs": [
        {
          "output_type": "stream",
          "text": [
            "[2, 4, 6, 8, 10, 12, 14, 16, 18]\n"
          ],
          "name": "stdout"
        }
      ]
    },
    {
      "cell_type": "code",
      "metadata": {
        "colab": {
          "base_uri": "https://localhost:8080/"
        },
        "id": "HHmb81BLJsYl",
        "outputId": "37e4bbb0-0fe7-4b63-c1fc-37e912365feb"
      },
      "source": [
        "#3과 5의 배수 합하기\n",
        "result = 0\n",
        "for n in range(1,1000):\n",
        "  if n%3==0 or n%5==0:\n",
        "    result +=n\n",
        "print(result)"
      ],
      "execution_count": 9,
      "outputs": [
        {
          "output_type": "stream",
          "text": [
            "233168\n"
          ],
          "name": "stdout"
        }
      ]
    },
    {
      "cell_type": "code",
      "metadata": {
        "id": "-fgJ78nFN5qN"
      },
      "source": [
        "# 게시판 페이징 하기\n",
        "def getTotalPage(m,n):\n",
        "  if m % n  ==0:\n",
        "    return m // n\n",
        "  else: \n",
        "    return m // n +1\n",
        "  "
      ],
      "execution_count": 12,
      "outputs": []
    },
    {
      "cell_type": "code",
      "metadata": {
        "colab": {
          "base_uri": "https://localhost:8080/"
        },
        "id": "suTB-gTtQBWu",
        "outputId": "97e4517c-fb1f-43fa-8f1f-9e6fed4ab5e0"
      },
      "source": [
        "print(getTotalPage(5,10))\n",
        "print(getTotalPage(25,10))\n",
        "print(getTotalPage(30,10))"
      ],
      "execution_count": 15,
      "outputs": [
        {
          "output_type": "stream",
          "text": [
            "1\n",
            "3\n",
            "3\n"
          ],
          "name": "stdout"
        }
      ]
    },
    {
      "cell_type": "code",
      "metadata": {
        "id": "qFBXbxYlQEwz"
      },
      "source": [
        ""
      ],
      "execution_count": null,
      "outputs": []
    }
  ]
}