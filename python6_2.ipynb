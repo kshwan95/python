{
  "nbformat": 4,
  "nbformat_minor": 0,
  "metadata": {
    "colab": {
      "name": "python6-2.ipynb",
      "provenance": [],
      "authorship_tag": "ABX9TyP5SDqBKkprbI0VURsr8nlm",
      "include_colab_link": true
    },
    "kernelspec": {
      "name": "python3",
      "display_name": "Python 3"
    },
    "language_info": {
      "name": "python"
    }
  },
  "cells": [
    {
      "cell_type": "markdown",
      "metadata": {
        "id": "view-in-github",
        "colab_type": "text"
      },
      "source": [
        "<a href=\"https://colab.research.google.com/github/kshwan95/python/blob/master/python6_2.ipynb\" target=\"_parent\"><img src=\"https://colab.research.google.com/assets/colab-badge.svg\" alt=\"Open In Colab\"/></a>"
      ]
    },
    {
      "cell_type": "code",
      "metadata": {
        "colab": {
          "base_uri": "https://localhost:8080/"
        },
        "id": "hOpO4SjRSaFM",
        "outputId": "795be603-5814-4f72-8fa4-861f621e659c"
      },
      "source": [
        "# 간단한 메모장 만들기\n",
        "#C:/doit/memo.py\n",
        "import sys\n",
        "\n",
        "option = sys.argv[1]\n",
        "memo =sys.argv[2]\n",
        "print(option)\n",
        "print(memo)"
      ],
      "execution_count": 1,
      "outputs": [
        {
          "output_type": "stream",
          "text": [
            "-f\n",
            "/root/.local/share/jupyter/runtime/kernel-73cb143e-3656-4f8c-9e62-955c2fb2c238.json\n"
          ],
          "name": "stdout"
        }
      ]
    },
    {
      "cell_type": "code",
      "metadata": {
        "id": "mIFUrhC6ZkXE"
      },
      "source": [
        "import sys\n",
        "option= sys.argv[1]\n",
        "\n",
        "if option =='-a':\n",
        "  memo = sys.argv[2]\n",
        "  f = open('memo.txt','a')\n",
        "  f.write(memo)\n",
        "  f.write('\\n')\n",
        "  f.close()\n",
        "elif option =='-v':\n",
        "  f= open('meno.txt')\n",
        "  memo = f.read()\n",
        "  f.close()\n",
        "  print(memo)"
      ],
      "execution_count": 3,
      "outputs": []
    },
    {
      "cell_type": "code",
      "metadata": {
        "colab": {
          "base_uri": "https://localhost:8080/"
        },
        "id": "mo5vxhVVaEbM",
        "outputId": "818292c3-396a-48dd-acbd-dbb2fc2f3dcc"
      },
      "source": [
        "# 탭을 4개의 공백으로 바꾸기\n",
        "import sys\n",
        "src =sys.argv[1]\n",
        "dst =sys.argv[2]\n",
        "print(src)\n",
        "print(dst)"
      ],
      "execution_count": 4,
      "outputs": [
        {
          "output_type": "stream",
          "text": [
            "-f\n",
            "/root/.local/share/jupyter/runtime/kernel-73cb143e-3656-4f8c-9e62-955c2fb2c238.json\n"
          ],
          "name": "stdout"
        }
      ]
    },
    {
      "cell_type": "code",
      "metadata": {
        "id": "Wqo5qE3XbY4j"
      },
      "source": [
        ""
      ],
      "execution_count": null,
      "outputs": []
    }
  ]
}