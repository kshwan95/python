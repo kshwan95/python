{
  "nbformat": 4,
  "nbformat_minor": 0,
  "metadata": {
    "colab": {
      "name": "pythonprac4.ipynb",
      "provenance": [],
      "collapsed_sections": [],
      "authorship_tag": "ABX9TyNqEj8LvwT1tFS8w8PO1TDl",
      "include_colab_link": true
    },
    "kernelspec": {
      "name": "python3",
      "display_name": "Python 3"
    },
    "language_info": {
      "name": "python"
    }
  },
  "cells": [
    {
      "cell_type": "markdown",
      "metadata": {
        "id": "view-in-github",
        "colab_type": "text"
      },
      "source": [
        "<a href=\"https://colab.research.google.com/github/kshwan95/python/blob/master/pythonprac4.ipynb\" target=\"_parent\"><img src=\"https://colab.research.google.com/assets/colab-badge.svg\" alt=\"Open In Colab\"/></a>"
      ]
    },
    {
      "cell_type": "code",
      "metadata": {
        "id": "Ts0v8yGxIFqf"
      },
      "source": [
        "# 일반적인 함수\n",
        "def add2(a,b):\n",
        "  result = a + b\n",
        "  return result"
      ],
      "execution_count": 27,
      "outputs": []
    },
    {
      "cell_type": "code",
      "metadata": {
        "colab": {
          "base_uri": "https://localhost:8080/"
        },
        "id": "01oeWGpmKKTN",
        "outputId": "54eae22a-1878-4ae1-9a79-10d75bbfb412"
      },
      "source": [
        "c = add2(3,4)\n",
        "print(c)"
      ],
      "execution_count": 30,
      "outputs": [
        {
          "output_type": "stream",
          "text": [
            "7\n"
          ],
          "name": "stdout"
        }
      ]
    },
    {
      "cell_type": "code",
      "metadata": {
        "id": "IgmxVo3DIrXU"
      },
      "source": [
        "# 입력값이 없는 함수\n",
        "def say():\n",
        "  return 'Hello world'"
      ],
      "execution_count": 32,
      "outputs": []
    },
    {
      "cell_type": "code",
      "metadata": {
        "colab": {
          "base_uri": "https://localhost:8080/"
        },
        "id": "BueZzfnvJ412",
        "outputId": "88b465ac-04d0-4d75-ce98-5d48dc471827"
      },
      "source": [
        "b= say()\n",
        "print(b)"
      ],
      "execution_count": 33,
      "outputs": [
        {
          "output_type": "stream",
          "text": [
            "Hello world\n"
          ],
          "name": "stdout"
        }
      ]
    },
    {
      "cell_type": "code",
      "metadata": {
        "id": "Weh-_pV1JYg_"
      },
      "source": [
        "# 결괏값이 없는 함수\n",
        "def add3(a,b):\n",
        "  print(\"%d,%d의 합은 %d입니다\"%(a,b,a+b))"
      ],
      "execution_count": 19,
      "outputs": []
    },
    {
      "cell_type": "code",
      "metadata": {
        "colab": {
          "base_uri": "https://localhost:8080/"
        },
        "id": "hBy8yznkJ1e_",
        "outputId": "2a8fd022-a99d-4c6b-ce9a-09356c6c7741"
      },
      "source": [
        "add3(3,4)"
      ],
      "execution_count": 20,
      "outputs": [
        {
          "output_type": "stream",
          "text": [
            "3,4의 합은 7입니다\n"
          ],
          "name": "stdout"
        }
      ]
    },
    {
      "cell_type": "code",
      "metadata": {
        "id": "hcxHTnweKAjn"
      },
      "source": [
        "# 입력값도 결괏값도 없는 함수"
      ],
      "execution_count": null,
      "outputs": []
    }
  ]
}