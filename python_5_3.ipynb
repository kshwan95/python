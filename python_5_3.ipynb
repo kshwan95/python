{
  "nbformat": 4,
  "nbformat_minor": 0,
  "metadata": {
    "colab": {
      "name": "python 5-3.ipynb",
      "provenance": [],
      "collapsed_sections": [],
      "authorship_tag": "ABX9TyOnNW/UeM27PZjNSW4mJba/",
      "include_colab_link": true
    },
    "kernelspec": {
      "name": "python3",
      "display_name": "Python 3"
    },
    "language_info": {
      "name": "python"
    }
  },
  "cells": [
    {
      "cell_type": "markdown",
      "metadata": {
        "id": "view-in-github",
        "colab_type": "text"
      },
      "source": [
        "<a href=\"https://colab.research.google.com/github/kshwan95/python/blob/master/python_5_3.ipynb\" target=\"_parent\"><img src=\"https://colab.research.google.com/assets/colab-badge.svg\" alt=\"Open In Colab\"/></a>"
      ]
    },
    {
      "cell_type": "code",
      "metadata": {
        "colab": {
          "base_uri": "https://localhost:8080/"
        },
        "id": "vAC0bKd3xyIu",
        "outputId": "1566daa5-bb73-434a-b35e-d6338de262fb"
      },
      "source": [
        "# python 내장함수\n",
        "#abs 절대값을 돌려주는 함수\n",
        "abs(3)\n",
        "abs(-3)\n",
        "abs(-1.2)"
      ],
      "execution_count": 2,
      "outputs": [
        {
          "output_type": "execute_result",
          "data": {
            "text/plain": [
              "1.2"
            ]
          },
          "metadata": {
            "tags": []
          },
          "execution_count": 2
        }
      ]
    },
    {
      "cell_type": "code",
      "metadata": {
        "colab": {
          "base_uri": "https://localhost:8080/"
        },
        "id": "jQqsMmuEyG2t",
        "outputId": "123bd605-41f7-4439-b858-2b5cf96cf03e"
      },
      "source": [
        "#all 자료형 x를 입력 인수로 받으며 이 x가 모두 참이면 true 거짓이 하나라도 있으면 False\n",
        "all([1,2,3])"
      ],
      "execution_count": 3,
      "outputs": [
        {
          "output_type": "execute_result",
          "data": {
            "text/plain": [
              "True"
            ]
          },
          "metadata": {
            "tags": []
          },
          "execution_count": 3
        }
      ]
    },
    {
      "cell_type": "code",
      "metadata": {
        "colab": {
          "base_uri": "https://localhost:8080/"
        },
        "id": "wyXwQPMNyfg5",
        "outputId": "f0918993-9b12-48a3-e778-5384181b5082"
      },
      "source": [
        "#any x중 하나라도 참이 있으면 true, x가 모두 거짓일 때에만 False\n",
        "any([1,2,3,0])"
      ],
      "execution_count": 4,
      "outputs": [
        {
          "output_type": "execute_result",
          "data": {
            "text/plain": [
              "True"
            ]
          },
          "metadata": {
            "tags": []
          },
          "execution_count": 4
        }
      ]
    },
    {
      "cell_type": "code",
      "metadata": {
        "colab": {
          "base_uri": "https://localhost:8080/",
          "height": 35
        },
        "id": "2HVn60Xn17LR",
        "outputId": "d6f22aea-dbb2-44aa-b757-c93c519df5a5"
      },
      "source": [
        "#chr 아크키 코드 값을 입력받아 그 코드에 해당하는 문자 출력\n",
        "chr(97)"
      ],
      "execution_count": 5,
      "outputs": [
        {
          "output_type": "execute_result",
          "data": {
            "application/vnd.google.colaboratory.intrinsic+json": {
              "type": "string"
            },
            "text/plain": [
              "'a'"
            ]
          },
          "metadata": {
            "tags": []
          },
          "execution_count": 5
        }
      ]
    },
    {
      "cell_type": "code",
      "metadata": {
        "colab": {
          "base_uri": "https://localhost:8080/"
        },
        "id": "T9qgE9aq2GuE",
        "outputId": "d7b23d81-eebd-4f3c-dbc3-ade86fe6f2a7"
      },
      "source": [
        "#dir 객체가 자체적으로 가지고 있는 변수나 함수를 보줌\n",
        "dir([1,2,3])"
      ],
      "execution_count": 6,
      "outputs": [
        {
          "output_type": "execute_result",
          "data": {
            "text/plain": [
              "['__add__',\n",
              " '__class__',\n",
              " '__contains__',\n",
              " '__delattr__',\n",
              " '__delitem__',\n",
              " '__dir__',\n",
              " '__doc__',\n",
              " '__eq__',\n",
              " '__format__',\n",
              " '__ge__',\n",
              " '__getattribute__',\n",
              " '__getitem__',\n",
              " '__gt__',\n",
              " '__hash__',\n",
              " '__iadd__',\n",
              " '__imul__',\n",
              " '__init__',\n",
              " '__init_subclass__',\n",
              " '__iter__',\n",
              " '__le__',\n",
              " '__len__',\n",
              " '__lt__',\n",
              " '__mul__',\n",
              " '__ne__',\n",
              " '__new__',\n",
              " '__reduce__',\n",
              " '__reduce_ex__',\n",
              " '__repr__',\n",
              " '__reversed__',\n",
              " '__rmul__',\n",
              " '__setattr__',\n",
              " '__setitem__',\n",
              " '__sizeof__',\n",
              " '__str__',\n",
              " '__subclasshook__',\n",
              " 'append',\n",
              " 'clear',\n",
              " 'copy',\n",
              " 'count',\n",
              " 'extend',\n",
              " 'index',\n",
              " 'insert',\n",
              " 'pop',\n",
              " 'remove',\n",
              " 'reverse',\n",
              " 'sort']"
            ]
          },
          "metadata": {
            "tags": []
          },
          "execution_count": 6
        }
      ]
    },
    {
      "cell_type": "code",
      "metadata": {
        "colab": {
          "base_uri": "https://localhost:8080/"
        },
        "id": "Jfm10g7W2N7V",
        "outputId": "0290aefc-664b-46dc-8a6a-6eba6c2beb93"
      },
      "source": [
        "#divmod 2개의 숫자를 입력으로 받느다 그리고 a를 b로 나눈 몫과 나머지를 튜플형으로 돌려준다.\n",
        "divmod(5,3)"
      ],
      "execution_count": 7,
      "outputs": [
        {
          "output_type": "execute_result",
          "data": {
            "text/plain": [
              "(1, 2)"
            ]
          },
          "metadata": {
            "tags": []
          },
          "execution_count": 7
        }
      ]
    },
    {
      "cell_type": "code",
      "metadata": {
        "colab": {
          "base_uri": "https://localhost:8080/"
        },
        "id": "Pjlk0aju2aF_",
        "outputId": "67c4f124-20bd-43ca-d36e-efa02b2f25f6"
      },
      "source": [
        "#enumerate 순서가 있는 자료형(리스트, 튜플, 문자열)을 입력으로 ㅂ다아 인덱스 값을 퐇마하는 enumerate 객체를 돌려준다.\n",
        "for i, name in enumerate(['body','foo','bar']):\n",
        "  print(i,name)"
      ],
      "execution_count": 8,
      "outputs": [
        {
          "output_type": "stream",
          "text": [
            "0 body\n",
            "1 foo\n",
            "2 bar\n"
          ],
          "name": "stdout"
        }
      ]
    },
    {
      "cell_type": "code",
      "metadata": {
        "colab": {
          "base_uri": "https://localhost:8080/"
        },
        "id": "xZWYbl_C3fCv",
        "outputId": "70b840cb-b07f-41fa-89a3-5070060f2b14"
      },
      "source": [
        "#eval 실행가능한 문자열을 입력 받아 문자열을 실행하는 함수\n",
        "eval('1+2')"
      ],
      "execution_count": 9,
      "outputs": [
        {
          "output_type": "execute_result",
          "data": {
            "text/plain": [
              "3"
            ]
          },
          "metadata": {
            "tags": []
          },
          "execution_count": 9
        }
      ]
    },
    {
      "cell_type": "code",
      "metadata": {
        "colab": {
          "base_uri": "https://localhost:8080/",
          "height": 35
        },
        "id": "O4BU3vRp6UZV",
        "outputId": "1586d1d5-1ea0-4479-d3fd-8eb25ca1e5da"
      },
      "source": [
        "eval(\"'hi'+'a'\")"
      ],
      "execution_count": 10,
      "outputs": [
        {
          "output_type": "execute_result",
          "data": {
            "application/vnd.google.colaboratory.intrinsic+json": {
              "type": "string"
            },
            "text/plain": [
              "'hia'"
            ]
          },
          "metadata": {
            "tags": []
          },
          "execution_count": 10
        }
      ]
    },
    {
      "cell_type": "code",
      "metadata": {
        "colab": {
          "base_uri": "https://localhost:8080/"
        },
        "id": "E4i-qmEu6aXY",
        "outputId": "d357b922-d632-44e9-cee9-4e0a02fd2b89"
      },
      "source": [
        "#filter 첫 번째 인수로 ㅎ마수이름을 , 두번째 인수로 그 함수에 차례로 들어갈 반복 가능한 자료형을 받고 두 번째 인수인 반복 가능한 자료형 요소가 첫 번째 인수인 함수에 입력되었을때 반환값이 참인 것만 묶어서 돌려준다.\n",
        "def positive(l):\n",
        "  result=[]\n",
        "  for i in l:\n",
        "    if i>0:\n",
        "      result.append(i)\n",
        "  return result\n",
        "\n",
        "print(positive([1,-3,2,0,-5,6]))"
      ],
      "execution_count": 14,
      "outputs": [
        {
          "output_type": "stream",
          "text": [
            "[1, 2, 6]\n"
          ],
          "name": "stdout"
        }
      ]
    },
    {
      "cell_type": "code",
      "metadata": {
        "id": "R-XQUlSl650W"
      },
      "source": [
        "def positive(x):\n",
        "  return x>0\n",
        "  print(list(filter(positive, [1,-3,2,0,-5,6])))"
      ],
      "execution_count": 16,
      "outputs": []
    },
    {
      "cell_type": "code",
      "metadata": {
        "id": "aYV3yIQU7TG-"
      },
      "source": [
        ""
      ],
      "execution_count": null,
      "outputs": []
    }
  ]
}