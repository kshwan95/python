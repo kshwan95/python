{
  "nbformat": 4,
  "nbformat_minor": 0,
  "metadata": {
    "colab": {
      "name": "python 5-3.ipynb",
      "provenance": [],
      "collapsed_sections": [],
      "authorship_tag": "ABX9TyOof/A059CflzUj4642uVYO",
      "include_colab_link": true
    },
    "kernelspec": {
      "name": "python3",
      "display_name": "Python 3"
    },
    "language_info": {
      "name": "python"
    }
  },
  "cells": [
    {
      "cell_type": "markdown",
      "metadata": {
        "id": "view-in-github",
        "colab_type": "text"
      },
      "source": [
        "<a href=\"https://colab.research.google.com/github/kshwan95/python/blob/master/python_5_3.ipynb\" target=\"_parent\"><img src=\"https://colab.research.google.com/assets/colab-badge.svg\" alt=\"Open In Colab\"/></a>"
      ]
    },
    {
      "cell_type": "code",
      "metadata": {
        "colab": {
          "base_uri": "https://localhost:8080/"
        },
        "id": "vAC0bKd3xyIu",
        "outputId": "1566daa5-bb73-434a-b35e-d6338de262fb"
      },
      "source": [
        "# python 내장함수\n",
        "#abs 절대값을 돌려주는 함수\n",
        "abs(3)\n",
        "abs(-3)\n",
        "abs(-1.2)"
      ],
      "execution_count": 2,
      "outputs": [
        {
          "output_type": "execute_result",
          "data": {
            "text/plain": [
              "1.2"
            ]
          },
          "metadata": {
            "tags": []
          },
          "execution_count": 2
        }
      ]
    },
    {
      "cell_type": "code",
      "metadata": {
        "colab": {
          "base_uri": "https://localhost:8080/"
        },
        "id": "jQqsMmuEyG2t",
        "outputId": "123bd605-41f7-4439-b858-2b5cf96cf03e"
      },
      "source": [
        "#all 자료형 x를 입력 인수로 받으며 이 x가 모두 참이면 true 거짓이 하나라도 있으면 False\n",
        "all([1,2,3])"
      ],
      "execution_count": 3,
      "outputs": [
        {
          "output_type": "execute_result",
          "data": {
            "text/plain": [
              "True"
            ]
          },
          "metadata": {
            "tags": []
          },
          "execution_count": 3
        }
      ]
    },
    {
      "cell_type": "code",
      "metadata": {
        "colab": {
          "base_uri": "https://localhost:8080/"
        },
        "id": "wyXwQPMNyfg5",
        "outputId": "f0918993-9b12-48a3-e778-5384181b5082"
      },
      "source": [
        "#any x중 하나라도 참이 있으면 true, x가 모두 거짓일 때에만 False\n",
        "any([1,2,3,0])"
      ],
      "execution_count": 4,
      "outputs": [
        {
          "output_type": "execute_result",
          "data": {
            "text/plain": [
              "True"
            ]
          },
          "metadata": {
            "tags": []
          },
          "execution_count": 4
        }
      ]
    },
    {
      "cell_type": "code",
      "metadata": {
        "colab": {
          "base_uri": "https://localhost:8080/",
          "height": 35
        },
        "id": "2HVn60Xn17LR",
        "outputId": "d6f22aea-dbb2-44aa-b757-c93c519df5a5"
      },
      "source": [
        "#chr 아크키 코드 값을 입력받아 그 코드에 해당하는 문자 출력\n",
        "chr(97)"
      ],
      "execution_count": 5,
      "outputs": [
        {
          "output_type": "execute_result",
          "data": {
            "application/vnd.google.colaboratory.intrinsic+json": {
              "type": "string"
            },
            "text/plain": [
              "'a'"
            ]
          },
          "metadata": {
            "tags": []
          },
          "execution_count": 5
        }
      ]
    },
    {
      "cell_type": "code",
      "metadata": {
        "colab": {
          "base_uri": "https://localhost:8080/"
        },
        "id": "T9qgE9aq2GuE",
        "outputId": "d7b23d81-eebd-4f3c-dbc3-ade86fe6f2a7"
      },
      "source": [
        "#dir 객체가 자체적으로 가지고 있는 변수나 함수를 보줌\n",
        "dir([1,2,3])"
      ],
      "execution_count": 6,
      "outputs": [
        {
          "output_type": "execute_result",
          "data": {
            "text/plain": [
              "['__add__',\n",
              " '__class__',\n",
              " '__contains__',\n",
              " '__delattr__',\n",
              " '__delitem__',\n",
              " '__dir__',\n",
              " '__doc__',\n",
              " '__eq__',\n",
              " '__format__',\n",
              " '__ge__',\n",
              " '__getattribute__',\n",
              " '__getitem__',\n",
              " '__gt__',\n",
              " '__hash__',\n",
              " '__iadd__',\n",
              " '__imul__',\n",
              " '__init__',\n",
              " '__init_subclass__',\n",
              " '__iter__',\n",
              " '__le__',\n",
              " '__len__',\n",
              " '__lt__',\n",
              " '__mul__',\n",
              " '__ne__',\n",
              " '__new__',\n",
              " '__reduce__',\n",
              " '__reduce_ex__',\n",
              " '__repr__',\n",
              " '__reversed__',\n",
              " '__rmul__',\n",
              " '__setattr__',\n",
              " '__setitem__',\n",
              " '__sizeof__',\n",
              " '__str__',\n",
              " '__subclasshook__',\n",
              " 'append',\n",
              " 'clear',\n",
              " 'copy',\n",
              " 'count',\n",
              " 'extend',\n",
              " 'index',\n",
              " 'insert',\n",
              " 'pop',\n",
              " 'remove',\n",
              " 'reverse',\n",
              " 'sort']"
            ]
          },
          "metadata": {
            "tags": []
          },
          "execution_count": 6
        }
      ]
    },
    {
      "cell_type": "code",
      "metadata": {
        "colab": {
          "base_uri": "https://localhost:8080/"
        },
        "id": "Jfm10g7W2N7V",
        "outputId": "0290aefc-664b-46dc-8a6a-6eba6c2beb93"
      },
      "source": [
        "#divmod 2개의 숫자를 입력으로 받느다 그리고 a를 b로 나눈 몫과 나머지를 튜플형으로 돌려준다.\n",
        "divmod(5,3)"
      ],
      "execution_count": 7,
      "outputs": [
        {
          "output_type": "execute_result",
          "data": {
            "text/plain": [
              "(1, 2)"
            ]
          },
          "metadata": {
            "tags": []
          },
          "execution_count": 7
        }
      ]
    },
    {
      "cell_type": "code",
      "metadata": {
        "colab": {
          "base_uri": "https://localhost:8080/"
        },
        "id": "Pjlk0aju2aF_",
        "outputId": "67c4f124-20bd-43ca-d36e-efa02b2f25f6"
      },
      "source": [
        "#enumerate 순서가 있는 자료형(리스트, 튜플, 문자열)을 입력으로 ㅂ다아 인덱스 값을 퐇마하는 enumerate 객체를 돌려준다.\n",
        "for i, name in enumerate(['body','foo','bar']):\n",
        "  print(i,name)"
      ],
      "execution_count": 8,
      "outputs": [
        {
          "output_type": "stream",
          "text": [
            "0 body\n",
            "1 foo\n",
            "2 bar\n"
          ],
          "name": "stdout"
        }
      ]
    },
    {
      "cell_type": "code",
      "metadata": {
        "colab": {
          "base_uri": "https://localhost:8080/"
        },
        "id": "xZWYbl_C3fCv",
        "outputId": "70b840cb-b07f-41fa-89a3-5070060f2b14"
      },
      "source": [
        "#eval 실행가능한 문자열을 입력 받아 문자열을 실행하는 함수\n",
        "eval('1+2')"
      ],
      "execution_count": 9,
      "outputs": [
        {
          "output_type": "execute_result",
          "data": {
            "text/plain": [
              "3"
            ]
          },
          "metadata": {
            "tags": []
          },
          "execution_count": 9
        }
      ]
    },
    {
      "cell_type": "code",
      "metadata": {
        "colab": {
          "base_uri": "https://localhost:8080/",
          "height": 35
        },
        "id": "O4BU3vRp6UZV",
        "outputId": "1586d1d5-1ea0-4479-d3fd-8eb25ca1e5da"
      },
      "source": [
        "eval(\"'hi'+'a'\")"
      ],
      "execution_count": 10,
      "outputs": [
        {
          "output_type": "execute_result",
          "data": {
            "application/vnd.google.colaboratory.intrinsic+json": {
              "type": "string"
            },
            "text/plain": [
              "'hia'"
            ]
          },
          "metadata": {
            "tags": []
          },
          "execution_count": 10
        }
      ]
    },
    {
      "cell_type": "code",
      "metadata": {
        "colab": {
          "base_uri": "https://localhost:8080/"
        },
        "id": "E4i-qmEu6aXY",
        "outputId": "d357b922-d632-44e9-cee9-4e0a02fd2b89"
      },
      "source": [
        "#filter 첫 번째 인수로 ㅎ마수이름을 , 두번째 인수로 그 함수에 차례로 들어갈 반복 가능한 자료형을 받고 두 번째 인수인 반복 가능한 자료형 요소가 첫 번째 인수인 함수에 입력되었을때 반환값이 참인 것만 묶어서 돌려준다.\n",
        "def positive(l):\n",
        "  result=[]\n",
        "  for i in l:\n",
        "    if i>0:\n",
        "      result.append(i)\n",
        "  return result\n",
        "\n",
        "print(positive([1,-3,2,0,-5,6]))"
      ],
      "execution_count": 14,
      "outputs": [
        {
          "output_type": "stream",
          "text": [
            "[1, 2, 6]\n"
          ],
          "name": "stdout"
        }
      ]
    },
    {
      "cell_type": "code",
      "metadata": {
        "id": "R-XQUlSl650W"
      },
      "source": [
        "def positive(x):\n",
        "  return x>0\n",
        "  print(list(filter(positive, [1,-3,2,0,-5,6])))"
      ],
      "execution_count": 16,
      "outputs": []
    },
    {
      "cell_type": "code",
      "metadata": {
        "colab": {
          "base_uri": "https://localhost:8080/",
          "height": 35
        },
        "id": "aYV3yIQU7TG-",
        "outputId": "18f3fc63-b07b-4fc0-899a-989df392a82b"
      },
      "source": [
        "#hex(x) 정수 값을 입력 받아 16진수로 변환하여 돌려주는 함수\n",
        "hex(234)"
      ],
      "execution_count": 17,
      "outputs": [
        {
          "output_type": "execute_result",
          "data": {
            "application/vnd.google.colaboratory.intrinsic+json": {
              "type": "string"
            },
            "text/plain": [
              "'0xea'"
            ]
          },
          "metadata": {
            "tags": []
          },
          "execution_count": 17
        }
      ]
    },
    {
      "cell_type": "code",
      "metadata": {
        "colab": {
          "base_uri": "https://localhost:8080/"
        },
        "id": "WhtpzFp47vOc",
        "outputId": "8f5adb98-0f16-435b-ea34-a04b9d5572d2"
      },
      "source": [
        "#id 객체를 입력방아 객체의 고유 주소 값을 돌려주는 함수\n",
        "a=3\n",
        "id(3)"
      ],
      "execution_count": 18,
      "outputs": [
        {
          "output_type": "execute_result",
          "data": {
            "text/plain": [
              "94883578849856"
            ]
          },
          "metadata": {
            "tags": []
          },
          "execution_count": 18
        }
      ]
    },
    {
      "cell_type": "code",
      "metadata": {
        "colab": {
          "base_uri": "https://localhost:8080/"
        },
        "id": "Ny2uhv_n73JK",
        "outputId": "1526735a-fbdb-4965-aaa3-3ced2be2460b"
      },
      "source": [
        "#isinstance(object, class)는 첫번째 인수로 인스턴스, 두번째 인수로 클래스 이름을 받는다. 입력으로 받은 인스턴스가 그 클래스의 인스턴스인지 판단하여 참이면 true, 거짓이면 False를 돌려준다.\n",
        "class Person: pass\n",
        "\n",
        "\n",
        "a=Person()\n",
        "isinstance(a,Person)"
      ],
      "execution_count": 19,
      "outputs": [
        {
          "output_type": "execute_result",
          "data": {
            "text/plain": [
              "True"
            ]
          },
          "metadata": {
            "tags": []
          },
          "execution_count": 19
        }
      ]
    },
    {
      "cell_type": "code",
      "metadata": {
        "colab": {
          "base_uri": "https://localhost:8080/"
        },
        "id": "U4qfvONBd309",
        "outputId": "d94df6f9-1688-4095-ee48-0a99a9f36488"
      },
      "source": [
        "b=3 \n",
        "isinstance(b,Person)"
      ],
      "execution_count": 20,
      "outputs": [
        {
          "output_type": "execute_result",
          "data": {
            "text/plain": [
              "False"
            ]
          },
          "metadata": {
            "tags": []
          },
          "execution_count": 20
        }
      ]
    },
    {
      "cell_type": "code",
      "metadata": {
        "colab": {
          "base_uri": "https://localhost:8080/"
        },
        "id": "0UB2-oVcd-7v",
        "outputId": "9a724142-1d4a-4a76-c583-5cc9cada39bd"
      },
      "source": [
        "#map(f,iterable)은 함수와 반복 가능한 자료형을 입력 받는다. map은 입력받은 자료형의 각 요소를 함수 f가 수행한 결과를 묶어서 돌려주는 함수이다.\n",
        "def two_times(numberList):\n",
        "  result=[]\n",
        "  for number in numberList:\n",
        "    result.append(number*2)\n",
        "  return result\n",
        "\n",
        "result = two_times([1,2,3,4])\n",
        "print(result)"
      ],
      "execution_count": 21,
      "outputs": [
        {
          "output_type": "stream",
          "text": [
            "[2, 4, 6, 8]\n"
          ],
          "name": "stdout"
        }
      ]
    },
    {
      "cell_type": "code",
      "metadata": {
        "colab": {
          "base_uri": "https://localhost:8080/"
        },
        "id": "UxcFV2TyekPs",
        "outputId": "2e4669c6-1dca-45ab-ee21-f87dd9f09d73"
      },
      "source": [
        "def two_time(x):return x*2\n",
        "list(map(two_time,[1,2,3,4]))"
      ],
      "execution_count": 22,
      "outputs": [
        {
          "output_type": "execute_result",
          "data": {
            "text/plain": [
              "[2, 4, 6, 8]"
            ]
          },
          "metadata": {
            "tags": []
          },
          "execution_count": 22
        }
      ]
    },
    {
      "cell_type": "code",
      "metadata": {
        "colab": {
          "base_uri": "https://localhost:8080/"
        },
        "id": "SAK_FDbZezJR",
        "outputId": "47c18aff-bd6e-45de-d831-caf783407820"
      },
      "source": [
        "#ord 문자의 아스키 코드 값을 돌려주는 함수\n",
        "ord('a')"
      ],
      "execution_count": 23,
      "outputs": [
        {
          "output_type": "execute_result",
          "data": {
            "text/plain": [
              "97"
            ]
          },
          "metadata": {
            "tags": []
          },
          "execution_count": 23
        }
      ]
    },
    {
      "cell_type": "code",
      "metadata": {
        "colab": {
          "base_uri": "https://localhost:8080/"
        },
        "id": "vMl4tUt0fFpI",
        "outputId": "21da5287-bedd-4d50-c176-168cf636de3a"
      },
      "source": [
        "#pow(x,y) x의 y제곱한 결괏값을 돌려주는 함수\n",
        "pow(2,4)"
      ],
      "execution_count": 24,
      "outputs": [
        {
          "output_type": "execute_result",
          "data": {
            "text/plain": [
              "16"
            ]
          },
          "metadata": {
            "tags": []
          },
          "execution_count": 24
        }
      ]
    },
    {
      "cell_type": "code",
      "metadata": {
        "colab": {
          "base_uri": "https://localhost:8080/"
        },
        "id": "zk6FRmxXfN_b",
        "outputId": "0c69905c-c780-48db-8816-228e8f2655b1"
      },
      "source": [
        "#라이브러리\n",
        "#argv_test.py\n",
        "import sys\n",
        "print(sys.argv)"
      ],
      "execution_count": 25,
      "outputs": [
        {
          "output_type": "stream",
          "text": [
            "['/usr/local/lib/python3.7/dist-packages/ipykernel_launcher.py', '-f', '/root/.local/share/jupyter/runtime/kernel-ccf3283d-b9f9-4771-a36a-033331867097.json']\n"
          ],
          "name": "stdout"
        }
      ]
    },
    {
      "cell_type": "code",
      "metadata": {
        "id": "U6zVVZh5flnB"
      },
      "source": [
        "#pickle\n",
        "import pickle\n",
        "f = open(\"test.txt\",\"wb\")\n",
        "data ={1:'python',2:'you need'}\n",
        "pickle.dump(data,f)\n",
        "f.close()"
      ],
      "execution_count": 26,
      "outputs": []
    },
    {
      "cell_type": "code",
      "metadata": {
        "colab": {
          "base_uri": "https://localhost:8080/"
        },
        "id": "NpS_GcLHf_4T",
        "outputId": "9123077a-b25c-4cdd-e29a-ee9aef10c9d2"
      },
      "source": [
        "import pickle\n",
        "f= open(\"test.txt\",\"rb\")\n",
        "data = pickle.load(f)\n",
        "print(data)"
      ],
      "execution_count": 27,
      "outputs": [
        {
          "output_type": "stream",
          "text": [
            "{1: 'python', 2: 'you need'}\n"
          ],
          "name": "stdout"
        }
      ]
    },
    {
      "cell_type": "code",
      "metadata": {
        "colab": {
          "base_uri": "https://localhost:8080/"
        },
        "id": "7SWcatw4gN-X",
        "outputId": "4faab29a-11e0-4690-c500-e205fe60d71e"
      },
      "source": [
        "import os\n",
        "os.environ # 내 시스템 환경변수 값 확인"
      ],
      "execution_count": 28,
      "outputs": [
        {
          "output_type": "execute_result",
          "data": {
            "text/plain": [
              "environ({'NO_GCE_CHECK': 'True', 'GCS_READ_CACHE_BLOCK_SIZE_MB': '16', 'CLOUDSDK_CONFIG': '/content/.config', 'CUDA_VERSION': '11.0.3', 'PATH': '/usr/local/nvidia/bin:/usr/local/cuda/bin:/usr/local/sbin:/usr/local/bin:/usr/sbin:/usr/bin:/sbin:/bin:/tools/node/bin:/tools/google-cloud-sdk/bin:/opt/bin', 'HOME': '/root', 'LD_LIBRARY_PATH': '/usr/local/nvidia/lib:/usr/local/nvidia/lib64', 'LANG': 'en_US.UTF-8', 'SHELL': '/bin/bash', 'LIBRARY_PATH': '/usr/local/cuda/lib64/stubs', 'SHLVL': '0', 'GCE_METADATA_TIMEOUT': '0', 'NCCL_VERSION': '2.7.8', 'NVIDIA_VISIBLE_DEVICES': 'all', 'DEBIAN_FRONTEND': 'noninteractive', 'CUDNN_VERSION': '8.0.4.30', 'LAST_FORCED_REBUILD': '20210714', 'JPY_PARENT_PID': '52', 'PYTHONPATH': '/env/python', 'DATALAB_SETTINGS_OVERRIDES': '{\"kernelManagerProxyPort\":6000,\"kernelManagerProxyHost\":\"172.28.0.3\",\"jupyterArgs\":[\"--ip=\\\\\"172.28.0.2\\\\\"\"],\"debugAdapterMultiplexerPath\":\"/usr/local/bin/dap_multiplexer\",\"enableLsp\":true}', 'ENV': '/root/.bashrc', 'GLIBCXX_FORCE_NEW': '1', 'NVIDIA_DRIVER_CAPABILITIES': 'compute,utility', 'TF_FORCE_GPU_ALLOW_GROWTH': 'true', 'LD_PRELOAD': '/usr/lib/x86_64-linux-gnu/libtcmalloc.so.4', 'NVIDIA_REQUIRE_CUDA': 'cuda>=11.0 brand=tesla,driver>=418,driver<419 brand=tesla,driver>=440,driver<441 brand=tesla,driver>=450,driver<451', 'OLDPWD': '/', 'HOSTNAME': '698034535da6', 'COLAB_GPU': '0', 'PWD': '/', 'CLOUDSDK_PYTHON': 'python3', 'GLIBCPP_FORCE_NEW': '1', 'PYTHONWARNINGS': 'ignore:::pip._internal.cli.base_command', 'TBE_CREDS_ADDR': '172.28.0.1:8008', 'TERM': 'xterm-color', 'CLICOLOR': '1', 'PAGER': 'cat', 'GIT_PAGER': 'cat', 'MPLBACKEND': 'module://ipykernel.pylab.backend_inline', 'PYDEVD_USE_FRAME_EVAL': 'NO'})"
            ]
          },
          "metadata": {
            "tags": []
          },
          "execution_count": 28
        }
      ]
    },
    {
      "cell_type": "code",
      "metadata": {
        "id": "CHHaVIxIgrjM"
      },
      "source": [
        "#os.chdir 디렉터리 위치 변경하기\n",
        "#os.getcwd 현재 자신의 디렉터리 위치를 돌려준다.\n",
        "#os.system 시스템 명령어 호출하기"
      ],
      "execution_count": 29,
      "outputs": []
    },
    {
      "cell_type": "code",
      "metadata": {
        "id": "gyP_JA00hfRP"
      },
      "source": [
        "#shutil 파일을 복사해 주는 파이썬 모듈\n",
        "#glob  디렉터리에 잇는 파일들 리스트로 만들기"
      ],
      "execution_count": null,
      "outputs": []
    },
    {
      "cell_type": "markdown",
      "metadata": {
        "id": "j7hwblhGh4EA"
      },
      "source": [
        "\n",
        "\n",
        "*   tempfile 파일을 임시로 만들어서 사용할때 유용한 모듈 \n",
        "tempfile.mkstemp()는 중복되지 않는 임시 파일의 이름을 무작위로 만들어서 돌려준다\n",
        "tempfile.TemporaryFile() 임시 저장 공간으로 사용할 파일 객체를 돌려준다.\n",
        "*  time 시간과 관련된 time 모듈\n",
        "time.time은 UTC를 사용하여 현재 시간을 실수 형태로 돌려주는 함수\n",
        "tiem.localtime 은 위에서 돌려준 실수 값을 사용해서 월,일,시,분,초 형대톨 바꿔준다.\n",
        "time.asctime 위에 의해서 반환된 튜플 형태의 값을 인수로 받아서 날짜와 시간을 알아보기 쉬운 형태로 돌려주는 함수\n",
        "*   calendar 파이썬에서 달력을 볼 수 있게 해주는 모듈\n",
        "*   random 난수를 발생시키는 모듈\n",
        "*   webbrowser 자신의 시스템에서 사용하는 기본 웹 브라우저를 자동으로 실행하는 모듈\n",
        "\n",
        "\n",
        "\n",
        "\n",
        "\n",
        "\n"
      ]
    }
  ]
}