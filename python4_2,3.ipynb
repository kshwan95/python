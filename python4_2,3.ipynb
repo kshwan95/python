{
  "nbformat": 4,
  "nbformat_minor": 0,
  "metadata": {
    "colab": {
      "name": "python4-2,3.ipynb",
      "provenance": [],
      "authorship_tag": "ABX9TyNsJ+mrDW4TUuQhb1EOxDJ0",
      "include_colab_link": true
    },
    "kernelspec": {
      "name": "python3",
      "display_name": "Python 3"
    },
    "language_info": {
      "name": "python"
    }
  },
  "cells": [
    {
      "cell_type": "markdown",
      "metadata": {
        "id": "view-in-github",
        "colab_type": "text"
      },
      "source": [
        "<a href=\"https://colab.research.google.com/github/kshwan95/python/blob/master/python4_2%2C3.ipynb\" target=\"_parent\"><img src=\"https://colab.research.google.com/assets/colab-badge.svg\" alt=\"Open In Colab\"/></a>"
      ]
    },
    {
      "cell_type": "code",
      "metadata": {
        "colab": {
          "base_uri": "https://localhost:8080/"
        },
        "id": "HkYhYII3UHPP",
        "outputId": "e6f93a86-8e4c-4e8d-8a14-c00eeb20c535"
      },
      "source": [
        "#사용자 입력\n",
        "number = input(\"숫자을 입력하세요:\")"
      ],
      "execution_count": 2,
      "outputs": [
        {
          "output_type": "stream",
          "text": [
            "숫자을 입력하세요:5\n"
          ],
          "name": "stdout"
        }
      ]
    },
    {
      "cell_type": "code",
      "metadata": {
        "colab": {
          "base_uri": "https://localhost:8080/"
        },
        "id": "h6vEdwDUUTTf",
        "outputId": "6b7306f3-2f2b-487a-fb9d-7c853a32bf60"
      },
      "source": [
        "print(number)"
      ],
      "execution_count": 3,
      "outputs": [
        {
          "output_type": "stream",
          "text": [
            "5\n"
          ],
          "name": "stdout"
        }
      ]
    },
    {
      "cell_type": "code",
      "metadata": {
        "colab": {
          "base_uri": "https://localhost:8080/"
        },
        "id": "kykPFWziUbYY",
        "outputId": "26654fa0-05b7-4a3d-99e4-d19faf20d106"
      },
      "source": [
        "for i in range(10):\n",
        "  print(i,end='')"
      ],
      "execution_count": 10,
      "outputs": [
        {
          "output_type": "stream",
          "text": [
            "0123456789"
          ],
          "name": "stdout"
        }
      ]
    },
    {
      "cell_type": "code",
      "metadata": {
        "id": "8FmykRc9UvZO"
      },
      "source": [
        "#파일 생성\n",
        "f = open(\"새파일.txt\",'w')\n",
        "f.close()"
      ],
      "execution_count": 17,
      "outputs": []
    },
    {
      "cell_type": "code",
      "metadata": {
        "id": "jkRWEdoHWnQ-"
      },
      "source": [
        "#writedata.py\n",
        "f = open(\"새파일.txt\",'w')\n",
        "for i in range(1,11):\n",
        "  data =\"%d 번째 줄입니다.\\n\"%i\n",
        "  f.write(data)\n",
        "f.close()"
      ],
      "execution_count": 24,
      "outputs": []
    },
    {
      "cell_type": "code",
      "metadata": {
        "colab": {
          "base_uri": "https://localhost:8080/"
        },
        "id": "nImCxmE0XIdd",
        "outputId": "8e644243-8bd9-4d91-cd75-22aee4eb89ff"
      },
      "source": [
        "#readline.py\n",
        "f = open(\"새파일.txt\",'r')\n",
        "line = f.readline()\n",
        "print(line)\n",
        "f.close"
      ],
      "execution_count": 25,
      "outputs": [
        {
          "output_type": "stream",
          "text": [
            "1 번째 줄입니다.\n",
            "\n"
          ],
          "name": "stdout"
        },
        {
          "output_type": "execute_result",
          "data": {
            "text/plain": [
              "<function TextIOWrapper.close>"
            ]
          },
          "metadata": {
            "tags": []
          },
          "execution_count": 25
        }
      ]
    },
    {
      "cell_type": "code",
      "metadata": {
        "colab": {
          "base_uri": "https://localhost:8080/"
        },
        "id": "WfWl4kXcYPc-",
        "outputId": "c280e72c-8588-4d32-cee5-c7d7205f3399"
      },
      "source": [
        "f = open(\"새파일.txt\",'r')\n",
        "line = f.readlines()\n",
        "print(line)\n",
        "f.close"
      ],
      "execution_count": 26,
      "outputs": [
        {
          "output_type": "stream",
          "text": [
            "['1 번째 줄입니다.\\n', '2 번째 줄입니다.\\n', '3 번째 줄입니다.\\n', '4 번째 줄입니다.\\n', '5 번째 줄입니다.\\n', '6 번째 줄입니다.\\n', '7 번째 줄입니다.\\n', '8 번째 줄입니다.\\n', '9 번째 줄입니다.\\n', '10 번째 줄입니다.\\n']\n"
          ],
          "name": "stdout"
        },
        {
          "output_type": "execute_result",
          "data": {
            "text/plain": [
              "<function TextIOWrapper.close>"
            ]
          },
          "metadata": {
            "tags": []
          },
          "execution_count": 26
        }
      ]
    },
    {
      "cell_type": "code",
      "metadata": {
        "colab": {
          "base_uri": "https://localhost:8080/"
        },
        "id": "tHDh7MOOZDWx",
        "outputId": "157b7cf1-622f-4e6d-d6ec-c40f70552abb"
      },
      "source": [
        "f = open(\"새파일.txt\",'r')\n",
        "line = f.read()\n",
        "print(line)\n",
        "f.close"
      ],
      "execution_count": 27,
      "outputs": [
        {
          "output_type": "stream",
          "text": [
            "1 번째 줄입니다.\n",
            "2 번째 줄입니다.\n",
            "3 번째 줄입니다.\n",
            "4 번째 줄입니다.\n",
            "5 번째 줄입니다.\n",
            "6 번째 줄입니다.\n",
            "7 번째 줄입니다.\n",
            "8 번째 줄입니다.\n",
            "9 번째 줄입니다.\n",
            "10 번째 줄입니다.\n",
            "\n"
          ],
          "name": "stdout"
        },
        {
          "output_type": "execute_result",
          "data": {
            "text/plain": [
              "<function TextIOWrapper.close>"
            ]
          },
          "metadata": {
            "tags": []
          },
          "execution_count": 27
        }
      ]
    },
    {
      "cell_type": "code",
      "metadata": {
        "colab": {
          "base_uri": "https://localhost:8080/"
        },
        "id": "f0yVDIcfZOl9",
        "outputId": "0bc60a29-a4bd-4fe3-c2b0-ff2612b0032b"
      },
      "source": [
        "#sys 모듈로 매개변수 주기\n",
        "import sys\n",
        "args = sys.argv[1:]\n",
        "for i in args:\n",
        "  print(i)"
      ],
      "execution_count": 28,
      "outputs": [
        {
          "output_type": "stream",
          "text": [
            "-f\n",
            "/root/.local/share/jupyter/runtime/kernel-b47033be-5e08-4534-8c40-e60d12eaa406.json\n"
          ],
          "name": "stdout"
        }
      ]
    },
    {
      "cell_type": "code",
      "metadata": {
        "id": "SxSLnZQ0eVJ-"
      },
      "source": [
        ""
      ],
      "execution_count": null,
      "outputs": []
    }
  ]
}