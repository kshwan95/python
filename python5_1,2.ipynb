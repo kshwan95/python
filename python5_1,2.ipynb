{
  "nbformat": 4,
  "nbformat_minor": 0,
  "metadata": {
    "colab": {
      "name": "python5-1,2.ipynb",
      "provenance": [],
      "collapsed_sections": [],
      "authorship_tag": "ABX9TyM88vzpUyKP1cI5UQUWGh2Z",
      "include_colab_link": true
    },
    "kernelspec": {
      "name": "python3",
      "display_name": "Python 3"
    },
    "language_info": {
      "name": "python"
    }
  },
  "cells": [
    {
      "cell_type": "markdown",
      "metadata": {
        "id": "view-in-github",
        "colab_type": "text"
      },
      "source": [
        "<a href=\"https://colab.research.google.com/github/kshwan95/python/blob/master/python5_1%2C2.ipynb\" target=\"_parent\"><img src=\"https://colab.research.google.com/assets/colab-badge.svg\" alt=\"Open In Colab\"/></a>"
      ]
    },
    {
      "cell_type": "code",
      "metadata": {
        "id": "0kbuDk1ZUjE7"
      },
      "source": [
        "#클래스\n",
        "class Calculator:\n",
        "  def __init__(self):\n",
        "    self.result = 0\n",
        "  def add(self,num):\n",
        "    self.result+= num\n",
        "    return self.result\n",
        "cal1 = Calculator()\n",
        "cal2 = Calculator()"
      ],
      "execution_count": 1,
      "outputs": []
    },
    {
      "cell_type": "code",
      "metadata": {
        "colab": {
          "base_uri": "https://localhost:8080/"
        },
        "id": "uJDWZYo0Xiaa",
        "outputId": "8a6620fe-af71-4af5-ebbe-a8a0b5cc2057"
      },
      "source": [
        "print(cal1.add(3))\n",
        "print(cal1.add(7))"
      ],
      "execution_count": 2,
      "outputs": [
        {
          "output_type": "stream",
          "text": [
            "3\n",
            "10\n"
          ],
          "name": "stdout"
        }
      ]
    },
    {
      "cell_type": "code",
      "metadata": {
        "id": "wwfGqrORXp9Q"
      },
      "source": [
        "class FourCal:\n",
        "  def setdata(self,first,second):\n",
        "    self.first = first\n",
        "    self.second = second"
      ],
      "execution_count": 3,
      "outputs": []
    },
    {
      "cell_type": "code",
      "metadata": {
        "colab": {
          "base_uri": "https://localhost:8080/"
        },
        "id": "wgdBcMXIab9b",
        "outputId": "68ae1cd4-545d-4203-d6a8-91a9650ba828"
      },
      "source": [
        "a= FourCal()\n",
        "a.setdata(4,2)\n",
        "print(a.first)"
      ],
      "execution_count": 4,
      "outputs": [
        {
          "output_type": "stream",
          "text": [
            "4\n"
          ],
          "name": "stdout"
        }
      ]
    },
    {
      "cell_type": "code",
      "metadata": {
        "id": "aZziKdzDajVH"
      },
      "source": [
        "class FourCal:\n",
        "  def setdata(self,first,second):\n",
        "    self.first = first\n",
        "    self.second = second\n",
        "  def add(self):\n",
        "    result = self.first+self.second\n",
        "    return result"
      ],
      "execution_count": 5,
      "outputs": []
    },
    {
      "cell_type": "code",
      "metadata": {
        "colab": {
          "base_uri": "https://localhost:8080/"
        },
        "id": "-NvJYZh-a6GD",
        "outputId": "f7e49066-74a8-4805-f6d4-c48c359ff02b"
      },
      "source": [
        "a = FourCal()\n",
        "a.setdata(5,6)\n",
        "print(a.add())"
      ],
      "execution_count": 6,
      "outputs": [
        {
          "output_type": "stream",
          "text": [
            "11\n"
          ],
          "name": "stdout"
        }
      ]
    },
    {
      "cell_type": "code",
      "metadata": {
        "id": "XEC2mlpybCUH"
      },
      "source": [
        "class FourCal:\n",
        "  def __init__(self, first, second):\n",
        "    self.first = first\n",
        "    self.second = second\n",
        "  def setdata(self,first,second):\n",
        "    self.first = first\n",
        "    self.second = second\n",
        "  def add(self):\n",
        "    result = self.first+self.second\n",
        "    return result\n",
        "  def mul(self):\n",
        "    result = self.first *self.second\n",
        "    return result\n",
        "  def sub(self):\n",
        "    result = self.first - self.second\n",
        "    return result\n",
        "  def div(self):\n",
        "    result = self.first / self.second\n",
        "    return result"
      ],
      "execution_count": 8,
      "outputs": []
    },
    {
      "cell_type": "code",
      "metadata": {
        "id": "bvZzq8GZbs8d"
      },
      "source": [
        "class MoreFourCal(FourCal):\n",
        "  def pow(self):\n",
        "    result = self.first**self.second\n",
        "    return result"
      ],
      "execution_count": 9,
      "outputs": []
    },
    {
      "cell_type": "code",
      "metadata": {
        "colab": {
          "base_uri": "https://localhost:8080/"
        },
        "id": "fUXxFaTWcj5W",
        "outputId": "d779e56e-bfe0-4d1a-8299-6afc08248c7f"
      },
      "source": [
        "a = MoreFourCal(4,2)\n",
        "a.pow()"
      ],
      "execution_count": 10,
      "outputs": [
        {
          "output_type": "execute_result",
          "data": {
            "text/plain": [
              "16"
            ]
          },
          "metadata": {
            "tags": []
          },
          "execution_count": 10
        }
      ]
    },
    {
      "cell_type": "code",
      "metadata": {
        "id": "sVLdrHE4colm"
      },
      "source": [
        "# 모듈\n",
        "def add(a,b):\n",
        "  return a+b\n",
        "\n",
        "def sub(a,b):\n",
        "  return a-b"
      ],
      "execution_count": null,
      "outputs": []
    }
  ]
}